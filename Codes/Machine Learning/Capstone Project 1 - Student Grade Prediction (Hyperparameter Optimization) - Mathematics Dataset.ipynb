{
 "cells": [
  {
   "cell_type": "code",
   "execution_count": 137,
   "metadata": {},
   "outputs": [],
   "source": [
    "import pandas as pd\n",
    "import numpy as np\n",
    "import matplotlib.pyplot as plt\n",
    "import seaborn as sns\n",
    "from glob import glob\n",
    "\n",
    "from scipy.stats import randint\n",
    "\n",
    "from sklearn.linear_model import LinearRegression\n",
    "from sklearn.linear_model import Lasso\n",
    "from sklearn.linear_model import Ridge\n",
    "from sklearn.svm import SVR\n",
    "from sklearn.tree import DecisionTreeRegressor\n",
    "from sklearn.ensemble import RandomForestRegressor\n",
    "from sklearn.ensemble import GradientBoostingRegressor\n",
    "from xgboost import XGBRegressor\n",
    "from lightgbm import LGBMRegressor\n",
    "\n",
    "from sklearn.preprocessing import StandardScaler\n",
    "from sklearn.impute import SimpleImputer\n",
    "\n",
    "from sklearn.pipeline import Pipeline\n",
    "\n",
    "from sklearn.model_selection import RepeatedKFold\n",
    "from sklearn.model_selection import train_test_split\n",
    "from sklearn.model_selection import GridSearchCV\n",
    "from sklearn.model_selection import RandomizedSearchCV\n",
    "from sklearn.model_selection import cross_validate\n",
    "from sklearn.model_selection import cross_val_score"
   ]
  },
  {
   "cell_type": "code",
   "execution_count": 138,
   "metadata": {},
   "outputs": [],
   "source": [
    "# Import dataframe\n",
    "\n",
    "mat = pd.read_csv('student-mat.csv', sep=';')\n",
    "por = pd.read_csv('student-por.csv', sep=';')\n",
    "both = pd.merge(mat, por, how='outer', suffixes=['_mat','_por'], on=[\"school\",\"sex\",\"age\",\"address\",\"famsize\",\"Pstatus\",\"Medu\",\"Fedu\",\"Mjob\",\"Fjob\",\"reason\",\"nursery\",\"internet\"])"
   ]
  },
  {
   "cell_type": "code",
   "execution_count": 139,
   "metadata": {},
   "outputs": [],
   "source": [
    "# Encoding dummy variables\n",
    "\n",
    "math = pd.get_dummies(mat, drop_first=True)\n",
    "Port = pd.get_dummies(por, drop_first=True)"
   ]
  },
  {
   "cell_type": "markdown",
   "metadata": {},
   "source": [
    "# **Mathematics Dataset**"
   ]
  },
  {
   "cell_type": "code",
   "execution_count": 140,
   "metadata": {},
   "outputs": [],
   "source": [
    "# Train & Test samples for Mathematics\n",
    "\n",
    "Xm = math.drop('G3', axis=1)\n",
    "ym = math['G3']\n",
    "\n",
    "Xm_train, Xm_test, ym_train, ym_test = train_test_split(Xm,ym, test_size=0.2, random_state=24)"
   ]
  },
  {
   "cell_type": "code",
   "execution_count": 141,
   "metadata": {},
   "outputs": [],
   "source": [
    "# Repeated K-Fold cross validator\n",
    "\n",
    "cv = RepeatedKFold(n_splits=10, n_repeats=3, random_state=24)"
   ]
  },
  {
   "cell_type": "markdown",
   "metadata": {},
   "source": [
    "# **Random Forest Regression**"
   ]
  },
  {
   "cell_type": "code",
   "execution_count": 6,
   "metadata": {},
   "outputs": [
    {
     "name": "stdout",
     "output_type": "stream",
     "text": [
      "{'max_features': 'auto', 'min_impurity_decrease': 0, 'min_samples_leaf': 4, 'min_samples_split': 6, 'min_weight_fraction_leaf': 0, 'n_estimators': 250}\n"
     ]
    }
   ],
   "source": [
    "# Random Forest Regression (GridSearchCV)\n",
    "# Finding best parameters\n",
    "\n",
    "rfr = RandomForestRegressor()\n",
    "params = {'n_estimators':[100,250,500,750],\n",
    "          'min_samples_split':list(np.arange(2,10,2)),\n",
    "          'min_samples_leaf':list(np.arange(2,10,2)),\n",
    "          'min_weight_fraction_leaf':[0,0.1,0.2,0.3,0.4,0.5],\n",
    "          'min_impurity_decrease':[0,0.1,0.2,0.5],\n",
    "          'max_features':['auto','sqrt','log2']}\n",
    "\n",
    "rfr_grid = GridSearchCV(rfr, params, cv=5)\n",
    "rfr_grid.fit(Xm_train, ym_train)\n",
    "\n",
    "print(rfr_grid.best_params_)"
   ]
  },
  {
   "cell_type": "code",
   "execution_count": 142,
   "metadata": {},
   "outputs": [
    {
     "name": "stdout",
     "output_type": "stream",
     "text": [
      "Cross Validation score:  0.85823969638046\n"
     ]
    }
   ],
   "source": [
    "# Random Forest Regression (Final)\n",
    "\n",
    "rfr_final = RandomForestRegressor(n_estimators = 250, min_samples_split = 6,\n",
    "                             min_samples_leaf = 4, min_weight_fraction_leaf=0,\n",
    "                            min_impurity_decrease = 0, max_features = 'auto' )\n",
    "rfr_final.fit(Xm_train, ym_train)\n",
    "\n",
    "random_forest_final_score = cross_val_score(rfr_final,Xm_train, ym_train,cv=cv).mean()\n",
    "print(\"Cross Validation score: \",random_forest_final_score)"
   ]
  },
  {
   "cell_type": "code",
   "execution_count": 143,
   "metadata": {},
   "outputs": [
    {
     "name": "stdout",
     "output_type": "stream",
     "text": [
      "Cross Validation score:  0.8513755735370848\n"
     ]
    }
   ],
   "source": [
    "# Random Forest Regression (Original)\n",
    "\n",
    "rfr = RandomForestRegressor()\n",
    "rfr.fit(Xm_train, ym_train)\n",
    "\n",
    "random_forest_score = cross_val_score(rfr,Xm_train, ym_train,cv=cv).mean()\n",
    "print(\"Cross Validation score: \", random_forest_score)"
   ]
  },
  {
   "cell_type": "markdown",
   "metadata": {},
   "source": [
    "# **Gradient Boosting Regression**"
   ]
  },
  {
   "cell_type": "code",
   "execution_count": 17,
   "metadata": {},
   "outputs": [
    {
     "name": "stdout",
     "output_type": "stream",
     "text": [
      "{'max_depth': 4, 'min_impurity_decrease': 12, 'min_weight_fraction_leaf': 0, 'n_estimators': 750}\n"
     ]
    }
   ],
   "source": [
    "# Gradient Boosting Regression (GridSearchCV)\n",
    "# Finding best parameters\n",
    "\n",
    "gradient = GradientBoostingRegressor()\n",
    "\n",
    "params = {'n_estimators':[250,500,750,1000],\n",
    "          'min_weight_fraction_leaf':[0,0.1,0.2,0.3,0.4,0.5],\n",
    "          'max_depth':list(np.arange(3,11,1)),\n",
    "          'min_impurity_decrease':[6,10,12,14,16]}\n",
    "\n",
    "gradient_grid = GridSearchCV(gradient, params, cv=5)\n",
    "gradient_grid.fit(Xm_train, ym_train)\n",
    "print(gradient_grid.best_params_)"
   ]
  },
  {
   "cell_type": "code",
   "execution_count": 144,
   "metadata": {},
   "outputs": [
    {
     "name": "stdout",
     "output_type": "stream",
     "text": [
      "Cross Validation score:  0.8639500607821902\n"
     ]
    }
   ],
   "source": [
    "# Gradient Boosting Regression (Final)\n",
    "\n",
    "gradient_final = GradientBoostingRegressor(n_estimators=750, min_weight_fraction_leaf = 0,\n",
    "                                   max_depth = 4, min_impurity_decrease = 12 )\n",
    "gradient_final.fit(Xm_train, ym_train)\n",
    "\n",
    "gradient_boosting_final_score = cross_val_score(gradient_final,Xm_train, ym_train,cv=cv).mean()\n",
    "print(\"Cross Validation score: \",gradient_boosting_final_score)"
   ]
  },
  {
   "cell_type": "code",
   "execution_count": 145,
   "metadata": {},
   "outputs": [
    {
     "name": "stdout",
     "output_type": "stream",
     "text": [
      "Cross Validation score:  0.8569597028536252\n"
     ]
    }
   ],
   "source": [
    "# Gradient Boosting Regression (Original)\n",
    "\n",
    "gradient = GradientBoostingRegressor()\n",
    "gradient.fit(Xm_train, ym_train)\n",
    "\n",
    "gradient_boosting_score = cross_val_score(gradient,Xm_train, ym_train,cv=cv).mean()\n",
    "print(\"Cross Validation score: \",gradient_boosting_score)"
   ]
  },
  {
   "cell_type": "markdown",
   "metadata": {},
   "source": [
    "# **XGBoost**"
   ]
  },
  {
   "cell_type": "code",
   "execution_count": 11,
   "metadata": {},
   "outputs": [
    {
     "name": "stdout",
     "output_type": "stream",
     "text": [
      "{'alpha': 0, 'eta': 0.3, 'gamma': 15, 'lambda': 2, 'max_delta_step': 10, 'max_depth': 7, 'min_child_weight': 2, 'subsample': 0.9}\n"
     ]
    }
   ],
   "source": [
    "# XGBoost (GridSearchCV)\n",
    "\n",
    "xgboost = XGBRegressor()\n",
    "\n",
    "params = {'eta':[0.1,0.3,0.5],\n",
    "         'gamma':[5,10,15,20],\n",
    "         'max_depth':[3,6,7,9],\n",
    "         'min_child_weight':[1,2,3,4],\n",
    "         'max_delta_step':[0,2,5,8,10,12],\n",
    "         'subsample':[0.9, 0.95,1],\n",
    "         'alpha':[0,1,2],\n",
    "         'lambda':[1,2,3]}\n",
    "\n",
    "xg_grid = GridSearchCV(xgboost, params, cv=5)\n",
    "\n",
    "xg_grid.fit(Xm_train, ym_train)\n",
    "\n",
    "print(xg_grid.best_params_)"
   ]
  },
  {
   "cell_type": "code",
   "execution_count": 146,
   "metadata": {},
   "outputs": [
    {
     "name": "stdout",
     "output_type": "stream",
     "text": [
      "Cross Validation score:  0.8721941752670935\n"
     ]
    }
   ],
   "source": [
    "# XGBoost(Final)\n",
    "\n",
    "xgboost_final = XGBRegressor(eta=0.3, gamma = 15, max_depth = 7, min_child_weight = 2,\n",
    "                      max_delta_step = 10, subsample = 0.9, alpha = 0, reg_lambda = 2)\n",
    "xgboost_final.fit(Xm_train, ym_train)\n",
    "\n",
    "xgboost_final_score = cross_val_score(xgboost_final,Xm_train, ym_train,cv=cv).mean()\n",
    "print(\"Cross Validation score: \",xgboost_final_score)"
   ]
  },
  {
   "cell_type": "code",
   "execution_count": 147,
   "metadata": {},
   "outputs": [
    {
     "name": "stdout",
     "output_type": "stream",
     "text": [
      "Cross Validation score:  0.8411025765671091\n"
     ]
    }
   ],
   "source": [
    "# XGBoost (Original)\n",
    "\n",
    "xgboost = XGBRegressor()\n",
    "xgboost.fit(Xm_train, ym_train)\n",
    "\n",
    "xgboost_score = cross_val_score(xgboost,Xm_train, ym_train,cv=cv).mean()\n",
    "print(\"Cross Validation score: \", xgboost_score)"
   ]
  },
  {
   "cell_type": "markdown",
   "metadata": {},
   "source": [
    "# **Cross Validation Score**"
   ]
  },
  {
   "cell_type": "code",
   "execution_count": 148,
   "metadata": {},
   "outputs": [],
   "source": [
    "def autolabel(rects):\n",
    "    \"\"\"Attach a text label above each bar in *rects*, displaying its height.\"\"\"\n",
    "    for rect in rects:\n",
    "        height = rect.get_height()\n",
    "        ax.annotate('{}'.format(height),\n",
    "                    xy=(rect.get_x() + rect.get_width() / 2, height),\n",
    "                    xytext=(0, 10),  # 3 points vertical offset\n",
    "                    textcoords=\"offset points\",\n",
    "                    ha='center', va='bottom')"
   ]
  },
  {
   "cell_type": "code",
   "execution_count": 149,
   "metadata": {},
   "outputs": [],
   "source": [
    "name = ['Random Forest','Gradient Boosting', 'XGBoost']\n",
    "x_indexes = np.arange(len(name))\n",
    "width = 0.4\n",
    "\n",
    "cv_score = [random_forest_score, gradient_boosting_score, xgboost_score]\n",
    "cv_score_round = [round(score, 4) for score in cv_score]\n",
    "\n",
    "cv_score_final = [random_forest_final_score, gradient_boosting_final_score, xgboost_final_score]\n",
    "cv_score_final_round = [round(score, 4) for score in cv_score_final]"
   ]
  },
  {
   "cell_type": "code",
   "execution_count": 150,
   "metadata": {},
   "outputs": [
    {
     "data": {
      "image/png": "[encoded data removed]",
      "text/plain": [
       "<Figure size 576x720 with 1 Axes>"
      ]
     },
     "metadata": {},
     "output_type": "display_data"
    }
   ],
   "source": [
    "# Cross Validation Score Graph\n",
    "\n",
    "plt.style.use('seaborn-darkgrid')\n",
    "\n",
    "fig, ax = plt.subplots(figsize=(8,10))\n",
    "\n",
    "\n",
    "score_final_graph = ax.bar(x_indexes, cv_score_final_round, width=width, label = 'After Hyperparameter Optimization')\n",
    "score_graph = ax.bar(x_indexes+width, cv_score_round,width=width, label = 'Original')\n",
    "\n",
    "\n",
    "autolabel(score_graph)\n",
    "autolabel(score_final_graph)\n",
    "\n",
    "ax.set_ylim(bottom=0.8)\n",
    "ax.set_ylabel(\"Mean of Cross Validation Score\", size=12)\n",
    "\n",
    "ax.set_xlabel('Machine Learning Methods', size=12)\n",
    "ax.set_xticks(ticks = x_indexes)\n",
    "ax.set_xticklabels(name, rotation=45)\n",
    "\n",
    "ax.set_title(\"Mathematics Data Set - Hyperparameter Optimization\", size = 15)\n",
    "plt.legend()\n",
    "\n",
    "plt.tight_layout()\n",
    "plt.savefig(\"Mathematics Data Set - Hyperparameter Optimization.png\")\n",
    "plt.show()"
   ]
  },
  {
   "cell_type": "markdown",
   "metadata": {},
   "source": [
    "# **Predict on Test sample**"
   ]
  },
  {
   "cell_type": "code",
   "execution_count": 155,
   "metadata": {},
   "outputs": [
    {
     "name": "stdout",
     "output_type": "stream",
     "text": [
      "Cross Validation score:  0.7465389355272262\n"
     ]
    }
   ],
   "source": [
    "xgboost_final_testsample_score = cross_val_score(xgboost_final,Xm_test, ym_test,cv=cv).mean()\n",
    "print(\"Cross Validation score: \",xgboost_final_testsample_score)"
   ]
  },
  {
   "cell_type": "code",
   "execution_count": 156,
   "metadata": {},
   "outputs": [],
   "source": [
    "name_1 = ['Traning Sample', 'Test Sample']\n",
    "\n",
    "cv_score_1 = [xgboost_score, xgboost_final_testsample_score]\n",
    "cv_score_round_1 = [round(score, 4) for score in cv_score_1]"
   ]
  },
  {
   "cell_type": "code",
   "execution_count": 159,
   "metadata": {},
   "outputs": [
    {
     "data": {
      "image/png": "[encoded data removed]",
      "text/plain": [
       "<Figure size 360x576 with 1 Axes>"
      ]
     },
     "metadata": {},
     "output_type": "display_data"
    }
   ],
   "source": [
    "# Cross Validation Score Graph\n",
    "\n",
    "fig, ax = plt.subplots(figsize=(5,8))\n",
    "\n",
    "score_graph_1 = ax.bar(name_1, cv_score_round_1)\n",
    "score_graph_1[1].set_color('r')\n",
    "autolabel(score_graph_1)\n",
    "\n",
    "ax.set_ylim(bottom=0.5)    \n",
    "ax.set_ylabel(\"Mean of Cross Validation Score\", size=12)\n",
    "ax.set_xlabel('Sample', size=12)\n",
    "ax.set_title(\"Cross Validation Score Comparison of XGBoost Models - Mathematics Datase\", size = 15)\n",
    "ax.set_xticks(name_1)\n",
    "ax.set_xticklabels(name_1, rotation=45)\n",
    "\n",
    "\n",
    "plt.savefig(\"Cross Validation Score Comparison of XGBoost Models - Mathematics Datase.png\")\n",
    "plt.show()"
   ]
  },
  {
   "cell_type": "markdown",
   "metadata": {},
   "source": [
    "# **Test G1 and G2**"
   ]
  },
  {
   "cell_type": "code",
   "execution_count": 160,
   "metadata": {},
   "outputs": [
    {
     "name": "stdout",
     "output_type": "stream",
     "text": [
      "Cross Validation score:  0.7552688885802765\n"
     ]
    }
   ],
   "source": [
    "x_drop_1 = Xm_test.drop(['G1'], axis=1)\n",
    "\n",
    "drop_1_score = cross_val_score(xgboost_final,x_drop_1, ym_test,cv=cv).mean()\n",
    "print(\"Cross Validation score: \",drop_1_score)"
   ]
  },
  {
   "cell_type": "code",
   "execution_count": 161,
   "metadata": {},
   "outputs": [
    {
     "name": "stdout",
     "output_type": "stream",
     "text": [
      "Cross Validation score:  0.2348648345441747\n"
     ]
    }
   ],
   "source": [
    "x_drop_2 = Xm_test.drop(['G2'], axis=1)\n",
    "\n",
    "drop_2_score = cross_val_score(xgboost_final,x_drop_2, ym_test,cv=cv).mean()\n",
    "print(\"Cross Validation score: \", drop_2_score)"
   ]
  },
  {
   "cell_type": "code",
   "execution_count": 162,
   "metadata": {},
   "outputs": [
    {
     "name": "stdout",
     "output_type": "stream",
     "text": [
      "Cross Validation score:  -0.8507958226280549\n"
     ]
    }
   ],
   "source": [
    "x_drop_12 = Xm_test.drop(['G1','G2'], axis=1)\n",
    "\n",
    "drop_12_score = cross_val_score(xgboost_final,x_drop_12, ym_test,cv=cv).mean()\n",
    "print(\"Cross Validation score: \", drop_12_score)"
   ]
  },
  {
   "cell_type": "code",
   "execution_count": 163,
   "metadata": {},
   "outputs": [],
   "source": [
    "name = ['Keep All Features', 'Drop G1', 'Drop G2', 'Drop G1 and G2']\n",
    "\n",
    "xgboost_cv_score = [xgboost_final_testsample_score, drop_1_score, drop_2_score, drop_12_score]\n",
    "\n",
    "xgboost_cv_score_round = [round(score, 4) for score in xgboost_cv_score]"
   ]
  },
  {
   "cell_type": "code",
   "execution_count": 164,
   "metadata": {},
   "outputs": [
    {
     "data": {
      "image/png": "[encoded data removed]",
      "text/plain": [
       "<Figure size 576x720 with 1 Axes>"
      ]
     },
     "metadata": {},
     "output_type": "display_data"
    }
   ],
   "source": [
    "# Cross Validation Score Graph\n",
    "\n",
    "fig, ax = plt.subplots(figsize=(8,10))\n",
    "\n",
    "score_graph = ax.bar(name, xgboost_cv_score_round)\n",
    "score_graph[0].set_color('r')\n",
    "autolabel(score_graph)\n",
    "    \n",
    "ax.set_ylabel(\"Mean of Cross Validation Score\", size=12)\n",
    "ax.set_xlabel('Variations of Dataset', size=12)\n",
    "ax.set_title(\"XGBoost Model - Mathematics Dataset\", size=15)\n",
    "ax.set_xticks(name)\n",
    "ax.set_xticklabels(name, rotation=45)\n",
    "\n",
    "plt.tight_layout()\n",
    "plt.savefig(\"XGBoost Model - Mathematics Dataset.png\")\n",
    "plt.show()"
   ]
  }
 ],
 "metadata": {
  "kernelspec": {
   "display_name": "Python 3",
   "language": "python",
   "name": "python3"
  },
  "language_info": {
   "codemirror_mode": {
    "name": "ipython",
    "version": 3
   },
   "file_extension": ".py",
   "mimetype": "text/x-python",
   "name": "python",
   "nbconvert_exporter": "python",
   "pygments_lexer": "ipython3",
   "version": "3.7.6"
  }
 },
 "nbformat": 4,
 "nbformat_minor": 2
}
