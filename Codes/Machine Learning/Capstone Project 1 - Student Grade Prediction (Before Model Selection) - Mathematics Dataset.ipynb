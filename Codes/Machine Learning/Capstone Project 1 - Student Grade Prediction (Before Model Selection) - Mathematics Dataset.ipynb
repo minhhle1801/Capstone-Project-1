{
 "cells": [
  {
   "cell_type": "code",
   "execution_count": 1,
   "metadata": {},
   "outputs": [],
   "source": [
    "import pandas as pd\n",
    "import numpy as np\n",
    "import matplotlib.pyplot as plt\n",
    "import seaborn as sns\n",
    "from glob import glob\n",
    "\n",
    "from scipy.stats import randint\n",
    "\n",
    "from sklearn.linear_model import LinearRegression\n",
    "from sklearn.linear_model import Lasso\n",
    "from sklearn.linear_model import Ridge\n",
    "from sklearn.svm import SVR\n",
    "from sklearn.tree import DecisionTreeRegressor\n",
    "from sklearn.ensemble import RandomForestRegressor\n",
    "from sklearn.ensemble import GradientBoostingRegressor\n",
    "from xgboost import XGBRegressor\n",
    "from lightgbm import LGBMRegressor\n",
    "\n",
    "from sklearn.preprocessing import StandardScaler\n",
    "from sklearn.impute import SimpleImputer\n",
    "\n",
    "from sklearn.pipeline import Pipeline\n",
    "\n",
    "from sklearn.model_selection import RepeatedKFold\n",
    "from sklearn.model_selection import train_test_split\n",
    "from sklearn.model_selection import GridSearchCV\n",
    "from sklearn.model_selection import RandomizedSearchCV\n",
    "from sklearn.model_selection import cross_validate\n",
    "from sklearn.model_selection import cross_val_score"
   ]
  },
  {
   "cell_type": "code",
   "execution_count": 2,
   "metadata": {},
   "outputs": [],
   "source": [
    "# Import dataframe\n",
    "\n",
    "mat = pd.read_csv('student-mat.csv', sep=';')\n",
    "por = pd.read_csv('student-por.csv', sep=';')\n",
    "both = pd.merge(mat, por, how='outer', suffixes=['_mat','_por'], on=[\"school\",\"sex\",\"age\",\"address\",\"famsize\",\"Pstatus\",\"Medu\",\"Fedu\",\"Mjob\",\"Fjob\",\"reason\",\"nursery\",\"internet\"])"
   ]
  },
  {
   "cell_type": "code",
   "execution_count": 3,
   "metadata": {},
   "outputs": [],
   "source": [
    "# Encoding dummy variables\n",
    "\n",
    "math = pd.get_dummies(mat, drop_first=True)\n",
    "port = pd.get_dummies(por, drop_first=True)"
   ]
  },
  {
   "cell_type": "markdown",
   "metadata": {},
   "source": [
    "# **Mathematics Dataset**"
   ]
  },
  {
   "cell_type": "code",
   "execution_count": 4,
   "metadata": {},
   "outputs": [],
   "source": [
    "# Train & Test samples for Mathematics\n",
    "\n",
    "Xm = math.drop('G3', axis=1)\n",
    "ym = math['G3']\n",
    "\n",
    "Xm_train, Xm_test, ym_train, ym_test = train_test_split(Xm,ym, test_size=0.2, random_state=24)"
   ]
  },
  {
   "cell_type": "code",
   "execution_count": 5,
   "metadata": {},
   "outputs": [],
   "source": [
    "# Repeated K-Fold cross validator\n",
    "\n",
    "cv = RepeatedKFold(n_splits=10, n_repeats=3, random_state=24)"
   ]
  },
  {
   "cell_type": "code",
   "execution_count": 6,
   "metadata": {},
   "outputs": [
    {
     "name": "stdout",
     "output_type": "stream",
     "text": [
      "Cross Validation score:  0.7857329516626603\n"
     ]
    }
   ],
   "source": [
    "# Linear Regression\n",
    "\n",
    "linear = LinearRegression()\n",
    "linear.fit(Xm_train, ym_train)\n",
    "\n",
    "linear_score = cross_val_score(linear,Xm_train, ym_train,cv=cv).mean()\n",
    "print(\"Cross Validation score: \", linear_score)"
   ]
  },
  {
   "cell_type": "code",
   "execution_count": 7,
   "metadata": {},
   "outputs": [
    {
     "name": "stdout",
     "output_type": "stream",
     "text": [
      "Cross Validation score:  0.7890136236721936\n"
     ]
    }
   ],
   "source": [
    "# Ridge\n",
    "\n",
    "ridge = Ridge()\n",
    "ridge.fit(Xm_train,ym_train)\n",
    "\n",
    "ridge_score = cross_val_score(ridge, Xm_train, ym_train, cv=cv).mean()\n",
    "print(\"Cross Validation score: \", ridge_score)"
   ]
  },
  {
   "cell_type": "code",
   "execution_count": 8,
   "metadata": {},
   "outputs": [
    {
     "name": "stdout",
     "output_type": "stream",
     "text": [
      "Cross Validation score:  0.8271469970961011\n"
     ]
    }
   ],
   "source": [
    "# Lasso\n",
    "\n",
    "lasso = Lasso()\n",
    "lasso.fit(Xm_train,ym_train)\n",
    "\n",
    "lasso_score = cross_val_score(lasso, Xm_train, ym_train, cv=cv).mean()\n",
    "print(\"Cross Validation score: \", lasso_score)"
   ]
  },
  {
   "cell_type": "code",
   "execution_count": 9,
   "metadata": {},
   "outputs": [
    {
     "name": "stdout",
     "output_type": "stream",
     "text": [
      "Cross Validation score:  0.5747436290702514\n"
     ]
    }
   ],
   "source": [
    "# Support Vector Machines based Regression\n",
    "\n",
    "steps = [('scaler', StandardScaler()), ('SVR',SVR())]\n",
    "svr_pipeline = Pipeline(steps)\n",
    "svr_pipeline.fit(Xm_train, ym_train)\n",
    "\n",
    "svr_score = cross_val_score(svr_pipeline,Xm_train, ym_train,cv=cv).mean()\n",
    "print(\"Cross Validation score: \",svr_score)"
   ]
  },
  {
   "cell_type": "code",
   "execution_count": 10,
   "metadata": {},
   "outputs": [
    {
     "name": "stdout",
     "output_type": "stream",
     "text": [
      "Cross Validation score:  0.724824714701504\n"
     ]
    }
   ],
   "source": [
    "# Decision Tree Regressor\n",
    "\n",
    "dtr = DecisionTreeRegressor()\n",
    "dtr.fit(Xm_train, ym_train)\n",
    "\n",
    "decision_tree_score = cross_val_score(dtr,Xm_train, ym_train,cv=cv).mean()\n",
    "print(\"Cross Validation score: \", decision_tree_score)"
   ]
  },
  {
   "cell_type": "code",
   "execution_count": 11,
   "metadata": {},
   "outputs": [
    {
     "name": "stdout",
     "output_type": "stream",
     "text": [
      "Cross Validation score:  0.8558036605661162\n"
     ]
    }
   ],
   "source": [
    "# Random Forest Regression\n",
    "\n",
    "rfr = RandomForestRegressor()\n",
    "rfr.fit(Xm_train, ym_train)\n",
    "\n",
    "random_forest_score = cross_val_score(rfr,Xm_train, ym_train,cv=cv).mean()\n",
    "print(\"Cross Validation score: \", random_forest_score)"
   ]
  },
  {
   "cell_type": "code",
   "execution_count": 12,
   "metadata": {},
   "outputs": [
    {
     "name": "stdout",
     "output_type": "stream",
     "text": [
      "Cross Validation score:  0.8553897235054322\n"
     ]
    }
   ],
   "source": [
    "# Gradient Boosting Regression\n",
    "\n",
    "gradient = GradientBoostingRegressor()\n",
    "gradient.fit(Xm_train, ym_train)\n",
    "\n",
    "gradient_boosting_score = cross_val_score(gradient,Xm_train, ym_train,cv=cv).mean()\n",
    "print(\"Cross Validation score: \",gradient_boosting_score)"
   ]
  },
  {
   "cell_type": "code",
   "execution_count": 13,
   "metadata": {},
   "outputs": [
    {
     "name": "stdout",
     "output_type": "stream",
     "text": [
      "Cross Validation score:  0.8411025765671091\n"
     ]
    }
   ],
   "source": [
    "# XGBoost\n",
    "\n",
    "xgboost = XGBRegressor()\n",
    "xgboost.fit(Xm_train, ym_train)\n",
    "\n",
    "xgboost_score = cross_val_score(xgboost,Xm_train, ym_train,cv=cv).mean()\n",
    "print(\"Cross Validation score: \", xgboost_score)"
   ]
  },
  {
   "cell_type": "code",
   "execution_count": 14,
   "metadata": {},
   "outputs": [
    {
     "name": "stdout",
     "output_type": "stream",
     "text": [
      "Cross Validation score:  0.8372149653534786\n"
     ]
    }
   ],
   "source": [
    "# Lightgbm\n",
    "\n",
    "light = LGBMRegressor()\n",
    "light.fit(Xm_train, ym_train)\n",
    "\n",
    "lightgbm_score = cross_val_score(light,Xm_train, ym_train,cv=cv).mean()\n",
    "print(\"Cross Validation score: \", lightgbm_score)"
   ]
  },
  {
   "cell_type": "markdown",
   "metadata": {},
   "source": [
    "# **Cross Validation Score Graph**"
   ]
  },
  {
   "cell_type": "code",
   "execution_count": 15,
   "metadata": {},
   "outputs": [],
   "source": [
    "def autolabel(rects):\n",
    "    \"\"\"Attach a text label above each bar in *rects*, displaying its height.\"\"\"\n",
    "    for rect in rects:\n",
    "        height = rect.get_height()\n",
    "        ax.annotate('{}'.format(height),\n",
    "                    xy=(rect.get_x() + rect.get_width() / 2, height),\n",
    "                    xytext=(0, 3),  # 3 points vertical offset\n",
    "                    textcoords=\"offset points\",\n",
    "                    ha='center', va='bottom')"
   ]
  },
  {
   "cell_type": "code",
   "execution_count": 16,
   "metadata": {},
   "outputs": [],
   "source": [
    "name = ['Linear Regression', 'Ridge', 'Lasso', 'Support Vector Machines', 'Decision Tree',\n",
    "    'Random Forest','Gradient Boosting', 'XGBoost', 'Lightgbm']\n",
    "\n",
    "cv_score = [linear_score, ridge_score, lasso_score, svr_score, decision_tree_score, random_forest_score,\n",
    "    gradient_boosting_score, xgboost_score, lightgbm_score]\n",
    "\n",
    "cv_score_round = [round(score, 4) for score in cv_score]"
   ]
  },
  {
   "cell_type": "code",
   "execution_count": 17,
   "metadata": {},
   "outputs": [
    {
     "data": {
      "image/png": "[encoded data removed]",
      "text/plain": [
       "<Figure size 576x720 with 1 Axes>"
      ]
     },
     "metadata": {},
     "output_type": "display_data"
    }
   ],
   "source": [
    "# Cross Validation Score Graph\n",
    "\n",
    "plt.style.use('seaborn-darkgrid')\n",
    "\n",
    "fig, ax = plt.subplots(figsize=(8,10))\n",
    "\n",
    "score_graph = ax.bar(name, cv_score_round)\n",
    "autolabel(score_graph)\n",
    "\n",
    "ax.set_ylim(bottom=0.5)    \n",
    "ax.set_ylabel(\"Mean of Cross Validation Score\", size=12)\n",
    "ax.set_xlabel('Machine Learning Methods', size=12)\n",
    "ax.set_title(\"Mathematics Data Set - Before model selection\", size = 15)\n",
    "ax.set_xticks(name)\n",
    "ax.set_xticklabels(name, rotation=45)\n",
    "\n",
    "plt.tight_layout()\n",
    "plt.savefig(\"Mathematics Data Set - Before model selection.png\")\n",
    "plt.show()"
   ]
  }
 ],
 "metadata": {
  "kernelspec": {
   "display_name": "Python 3",
   "language": "python",
   "name": "python3"
  },
  "language_info": {
   "codemirror_mode": {
    "name": "ipython",
    "version": 3
   },
   "file_extension": ".py",
   "mimetype": "text/x-python",
   "name": "python",
   "nbconvert_exporter": "python",
   "pygments_lexer": "ipython3",
   "version": "3.7.6"
  }
 },
 "nbformat": 4,
 "nbformat_minor": 2
}
