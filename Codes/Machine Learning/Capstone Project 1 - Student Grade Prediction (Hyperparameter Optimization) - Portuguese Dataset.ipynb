{
 "cells": [
  {
   "cell_type": "code",
   "execution_count": 115,
   "metadata": {},
   "outputs": [],
   "source": [
    "import pandas as pd\n",
    "import numpy as np\n",
    "import matplotlib.pyplot as plt\n",
    "import seaborn as sns\n",
    "from glob import glob\n",
    "\n",
    "from scipy.stats import randint\n",
    "\n",
    "from sklearn.linear_model import LinearRegression\n",
    "from sklearn.linear_model import Lasso\n",
    "from sklearn.linear_model import Ridge\n",
    "from sklearn.svm import SVR\n",
    "from sklearn.tree import DecisionTreeRegressor\n",
    "from sklearn.ensemble import RandomForestRegressor\n",
    "from sklearn.ensemble import GradientBoostingRegressor\n",
    "from xgboost import XGBRegressor\n",
    "from lightgbm import LGBMRegressor\n",
    "\n",
    "from sklearn.preprocessing import StandardScaler\n",
    "from sklearn.impute import SimpleImputer\n",
    "\n",
    "from sklearn.pipeline import Pipeline\n",
    "\n",
    "from sklearn.model_selection import RepeatedKFold\n",
    "from sklearn.model_selection import train_test_split\n",
    "from sklearn.model_selection import GridSearchCV\n",
    "from sklearn.model_selection import RandomizedSearchCV\n",
    "from sklearn.model_selection import cross_validate\n",
    "from sklearn.model_selection import cross_val_score"
   ]
  },
  {
   "cell_type": "code",
   "execution_count": 116,
   "metadata": {},
   "outputs": [],
   "source": [
    "# Import dataframe\n",
    "\n",
    "mat = pd.read_csv('student-mat.csv', sep=';')\n",
    "por = pd.read_csv('student-por.csv', sep=';')\n",
    "both = pd.merge(mat, por, how='outer', suffixes=['_mat','_por'], on=[\"school\",\"sex\",\"age\",\"address\",\"famsize\",\"Pstatus\",\"Medu\",\"Fedu\",\"Mjob\",\"Fjob\",\"reason\",\"nursery\",\"internet\"])"
   ]
  },
  {
   "cell_type": "code",
   "execution_count": 117,
   "metadata": {},
   "outputs": [],
   "source": [
    "# Encoding dummy variables\n",
    "\n",
    "math = pd.get_dummies(mat, drop_first=True)\n",
    "port = pd.get_dummies(por, drop_first=True)"
   ]
  },
  {
   "cell_type": "markdown",
   "metadata": {},
   "source": [
    "# **Portuguese Dataset**"
   ]
  },
  {
   "cell_type": "code",
   "execution_count": 118,
   "metadata": {},
   "outputs": [],
   "source": [
    "# Train & Test samples for Portuguese\n",
    "\n",
    "Xp = port.drop('G3', axis=1)\n",
    "yp = port['G3']\n",
    "\n",
    "Xp_train, Xp_test, yp_train, yp_test = train_test_split(Xp,yp, test_size=0.2, random_state=24)"
   ]
  },
  {
   "cell_type": "code",
   "execution_count": 119,
   "metadata": {},
   "outputs": [],
   "source": [
    "# Repeated K-Fold cross validator\n",
    "\n",
    "cv = RepeatedKFold(n_splits=10, n_repeats=3, random_state=24)"
   ]
  },
  {
   "cell_type": "markdown",
   "metadata": {},
   "source": [
    "# **Linear Regression**"
   ]
  },
  {
   "cell_type": "code",
   "execution_count": 27,
   "metadata": {},
   "outputs": [
    {
     "name": "stdout",
     "output_type": "stream",
     "text": [
      "{'copy_X': True, 'n_jobs': 0, 'normalize': True}\n"
     ]
    }
   ],
   "source": [
    "# Linear Regression (GridSearchCV)\n",
    "\n",
    "linear = LinearRegression()\n",
    "params = {'normalize':[True,False],\n",
    "         'copy_X':[True,False],\n",
    "         'n_jobs':[0,1,2,3,4]}\n",
    "\n",
    "linear_grid = GridSearchCV(linear, params, cv = 5)\n",
    "linear_grid.fit(Xp_train, yp_train)\n",
    "print(linear_grid.best_params_)"
   ]
  },
  {
   "cell_type": "code",
   "execution_count": 120,
   "metadata": {},
   "outputs": [
    {
     "name": "stdout",
     "output_type": "stream",
     "text": [
      "Cross Validation score:  0.8281572825499037\n"
     ]
    }
   ],
   "source": [
    "# Linear Regression (Final)\n",
    "\n",
    "linear_final = LinearRegression(normalize = True, copy_X = True, n_jobs = 0)\n",
    "linear_final.fit(Xp_train, yp_train)\n",
    "\n",
    "linear_final_score = cross_val_score(linear_final,Xp_train, yp_train,cv=cv).mean()\n",
    "print(\"Cross Validation score: \",linear_final_score)"
   ]
  },
  {
   "cell_type": "code",
   "execution_count": 121,
   "metadata": {},
   "outputs": [
    {
     "name": "stdout",
     "output_type": "stream",
     "text": [
      "Cross Validation score:  0.8281572825499038\n"
     ]
    }
   ],
   "source": [
    "# Linear Regression (Original)\n",
    "\n",
    "linear = LinearRegression()\n",
    "linear.fit(Xp_train, yp_train)\n",
    "\n",
    "linear_score = cross_val_score(linear,Xp_train, yp_train,cv=cv).mean()\n",
    "print(\"Cross Validation score: \", linear_score)"
   ]
  },
  {
   "cell_type": "markdown",
   "metadata": {},
   "source": [
    "# **Ridge**"
   ]
  },
  {
   "cell_type": "code",
   "execution_count": 8,
   "metadata": {},
   "outputs": [
    {
     "name": "stdout",
     "output_type": "stream",
     "text": [
      "{'alpha': 150, 'copy_X': False, 'normalize': False, 'solver': 'saga'}\n"
     ]
    }
   ],
   "source": [
    "# Ridge (GridSearchCV)\n",
    "\n",
    "ridge = Ridge()\n",
    "\n",
    "params = {'alpha':[1,5,10,11,12,15,20,100, 150, 200, 250],\n",
    "          'normalize':[True,False],\n",
    "         'copy_X':[True,False],\n",
    "         'solver':['auto', 'svd', 'cholesky', 'lsqr', 'sparse_cg', 'sag', 'saga']}\n",
    "\n",
    "ridge_grid = GridSearchCV(ridge, params, cv = 5)\n",
    "ridge_grid.fit(Xp_train,yp_train)\n",
    "\n",
    "print(ridge_grid.best_params_)"
   ]
  },
  {
   "cell_type": "code",
   "execution_count": 122,
   "metadata": {},
   "outputs": [
    {
     "name": "stdout",
     "output_type": "stream",
     "text": [
      "Cross Validation score:  0.8377866128261419\n"
     ]
    }
   ],
   "source": [
    "# Ridge (Final)\n",
    "\n",
    "ridge_final = Ridge(alpha=150, normalize = False, copy_X = False, solver = 'saga')\n",
    "ridge_final.fit(Xp_train,yp_train)\n",
    "\n",
    "ridge_final_score = cross_val_score(ridge_final, Xp_train, yp_train, cv=cv).mean()\n",
    "print(\"Cross Validation score: \", ridge_final_score)"
   ]
  },
  {
   "cell_type": "code",
   "execution_count": 123,
   "metadata": {},
   "outputs": [
    {
     "name": "stdout",
     "output_type": "stream",
     "text": [
      "Cross Validation score:  0.8288077855634158\n"
     ]
    }
   ],
   "source": [
    "# Ridge (Original)\n",
    "\n",
    "ridge = Ridge()\n",
    "ridge.fit(Xp_train,yp_train)\n",
    "\n",
    "ridge_score = cross_val_score(ridge, Xp_train, yp_train, cv=cv).mean()\n",
    "print(\"Cross Validation score: \", ridge_score)"
   ]
  },
  {
   "cell_type": "markdown",
   "metadata": {},
   "source": [
    "# **Lasso**"
   ]
  },
  {
   "cell_type": "code",
   "execution_count": 124,
   "metadata": {},
   "outputs": [
    {
     "name": "stdout",
     "output_type": "stream",
     "text": [
      "{'alpha': 0.1, 'copy_X': False, 'max_iter': 1000, 'normalize': False, 'selection': 'random', 'warm_start': True}\n"
     ]
    }
   ],
   "source": [
    "# Lasso (GridSearchCV)\n",
    "\n",
    "lasso = Lasso()\n",
    "\n",
    "params = {'alpha':[0.01,0.1,1,2,3,4,5,6,10],\n",
    "          'max_iter':[500,1000,1500,2000],\n",
    "          'normalize':[0.01,0.1,1,2,3,4,5,False],\n",
    "          'warm_start':[True,False],\n",
    "         'copy_X':[True,False],\n",
    "         'selection':['cyclic','random']}\n",
    "\n",
    "lasso_grid = GridSearchCV(lasso, params, cv = 5)\n",
    "\n",
    "\n",
    "lasso_grid.fit(Xp_train,yp_train)\n",
    "\n",
    "print(lasso_grid.best_params_)"
   ]
  },
  {
   "cell_type": "code",
   "execution_count": 127,
   "metadata": {},
   "outputs": [
    {
     "name": "stdout",
     "output_type": "stream",
     "text": [
      "Cross Validation score:  0.8419863563021223\n"
     ]
    }
   ],
   "source": [
    "# Lasso (Final)\n",
    "\n",
    "lasso_final = Lasso(alpha = 0.1, max_iter = 1000, normalize = False, warm_start = True,\n",
    "             copy_X = True, selection = 'random')\n",
    "lasso_final.fit(Xp_train,yp_train)\n",
    "\n",
    "lasso_final_score = cross_val_score(lasso_final, Xp_train, yp_train, cv=cv).mean()\n",
    "print(\"Cross Validation score: \", lasso_final_score)"
   ]
  },
  {
   "cell_type": "code",
   "execution_count": 128,
   "metadata": {},
   "outputs": [
    {
     "name": "stdout",
     "output_type": "stream",
     "text": [
      "Cross Validation score:  0.8316797568325994\n"
     ]
    }
   ],
   "source": [
    "# Lasso (Original)\n",
    "\n",
    "lasso = Lasso()\n",
    "lasso.fit(Xp_train,yp_train)\n",
    "\n",
    "lasso_score = cross_val_score(lasso, Xp_train, yp_train, cv=cv).mean()\n",
    "print(\"Cross Validation score: \", lasso_score)"
   ]
  },
  {
   "cell_type": "markdown",
   "metadata": {},
   "source": [
    "# **Random Forest Regression**"
   ]
  },
  {
   "cell_type": "code",
   "execution_count": 12,
   "metadata": {},
   "outputs": [
    {
     "name": "stdout",
     "output_type": "stream",
     "text": [
      "{'max_features': 'auto', 'min_impurity_decrease': 0, 'min_samples_leaf': 6, 'min_samples_split': 6, 'min_weight_fraction_leaf': 0, 'n_estimators': 100}\n"
     ]
    }
   ],
   "source": [
    "# Random Forest Regression (GridSearchCV)\n",
    "\n",
    "rfr = RandomForestRegressor()\n",
    "params = {'n_estimators':[100,250,500,750],\n",
    "          'min_samples_split':list(np.arange(2,10,2)),\n",
    "          'min_samples_leaf':list(np.arange(2,10,2)),\n",
    "          'min_weight_fraction_leaf':[0,0.1,0.2,0.3,0.4,0.5],\n",
    "          'min_impurity_decrease':[0,0.1,0.2,0.5],\n",
    "          'max_features':['auto','sqrt','log2']}\n",
    "\n",
    "rfr_grid = GridSearchCV(rfr, params, cv=5)\n",
    "rfr_grid.fit(Xp_train, yp_train)\n",
    "\n",
    "print(rfr_grid.best_params_)"
   ]
  },
  {
   "cell_type": "code",
   "execution_count": 129,
   "metadata": {},
   "outputs": [
    {
     "name": "stdout",
     "output_type": "stream",
     "text": [
      "Cross Validation score:  0.8392096556017681\n"
     ]
    }
   ],
   "source": [
    "# Random Forest Regression (Final)\n",
    "\n",
    "rfr_final = RandomForestRegressor(n_estimators = 100, min_samples_split = 6,\n",
    "                             min_samples_leaf = 6, min_weight_fraction_leaf=0,\n",
    "                            min_impurity_decrease = 0, max_features = 'auto' )\n",
    "rfr_final.fit(Xp_train, yp_train)\n",
    "\n",
    "random_forest_final_score = cross_val_score(rfr_final,Xp_train, yp_train,cv=cv).mean()\n",
    "print(\"Cross Validation score: \",random_forest_final_score)"
   ]
  },
  {
   "cell_type": "code",
   "execution_count": 130,
   "metadata": {},
   "outputs": [
    {
     "name": "stdout",
     "output_type": "stream",
     "text": [
      "Cross Validation score:  0.8270507411473307\n"
     ]
    }
   ],
   "source": [
    "# Random Forest Regression (Original)\n",
    "\n",
    "rfr = RandomForestRegressor()\n",
    "rfr.fit(Xp_train, yp_train)\n",
    "\n",
    "random_forest_score = cross_val_score(rfr,Xp_train, yp_train,cv=cv).mean()\n",
    "print(\"Cross Validation score: \",random_forest_score)"
   ]
  },
  {
   "cell_type": "markdown",
   "metadata": {},
   "source": [
    "# **Cross Validation Score**"
   ]
  },
  {
   "cell_type": "code",
   "execution_count": 131,
   "metadata": {},
   "outputs": [],
   "source": [
    "def autolabel(rects):\n",
    "    \"\"\"Attach a text label above each bar in *rects*, displaying its height.\"\"\"\n",
    "    for rect in rects:\n",
    "        height = rect.get_height()\n",
    "        ax.annotate('{}'.format(height),\n",
    "                    xy=(rect.get_x() + rect.get_width() / 2, height),\n",
    "                    xytext=(0, 3),  # 3 points vertical offset\n",
    "                    textcoords=\"offset points\",\n",
    "                    ha='center', va='bottom')"
   ]
  },
  {
   "cell_type": "code",
   "execution_count": 132,
   "metadata": {},
   "outputs": [],
   "source": [
    "name = ['Linear Regression', 'Ridge', 'Lasso', 'Random Forest']\n",
    "x_indexes = np.arange(len(name))\n",
    "width = 0.4\n",
    "\n",
    "\n",
    "cv_score = [linear_score, ridge_score, lasso_score, random_forest_score]\n",
    "cv_score_round = [round(score, 4) for score in cv_score]\n",
    "\n",
    "cv_score_final = [linear_final_score, ridge_final_score, lasso_final_score, random_forest_final_score]\n",
    "cv_score_final_round = [round(score, 4) for score in cv_score_final]"
   ]
  },
  {
   "cell_type": "code",
   "execution_count": 133,
   "metadata": {},
   "outputs": [
    {
     "data": {
      "image/png": "[encoded data removed]",
      "text/plain": [
       "<Figure size 720x720 with 1 Axes>"
      ]
     },
     "metadata": {},
     "output_type": "display_data"
    }
   ],
   "source": [
    "# Cross Validation Score Graph\n",
    "\n",
    "plt.style.use('seaborn-darkgrid')\n",
    "\n",
    "fig, ax = plt.subplots(figsize=(10,10))\n",
    "\n",
    "\n",
    "score_final_graph = ax.bar(x_indexes, cv_score_final_round, width=width, label = 'After Hyperparameter Optimization')\n",
    "score_graph = ax.bar(x_indexes+width, cv_score_round,width=width, label = 'Original')\n",
    "\n",
    "\n",
    "autolabel(score_graph)\n",
    "autolabel(score_final_graph)\n",
    "\n",
    "ax.set_ylim(bottom=0.8)\n",
    "ax.set_ylabel(\"Mean of Cross Validation Score\", size=12)\n",
    "\n",
    "ax.set_xlabel('Machine Learning Methods', size=12)\n",
    "ax.set_xticks(ticks = x_indexes)\n",
    "ax.set_xticklabels(name, rotation=45)\n",
    "\n",
    "ax.set_title(\"Portuguese Data Set - Hyperparameter Optimization\", size = 15)\n",
    "plt.legend()\n",
    "\n",
    "plt.tight_layout()\n",
    "plt.savefig(\"Portuguese Data Set - Hyperparameter Optimization.png\")\n",
    "plt.show()"
   ]
  },
  {
   "cell_type": "markdown",
   "metadata": {},
   "source": [
    "# **Predict on Test sample**"
   ]
  },
  {
   "cell_type": "code",
   "execution_count": 135,
   "metadata": {},
   "outputs": [
    {
     "name": "stdout",
     "output_type": "stream",
     "text": [
      "Cross Validation score:  0.8644514046559654\n"
     ]
    }
   ],
   "source": [
    "lasso_final_testsample_score = cross_val_score(lasso_final,Xp_test, yp_test,cv=cv).mean()\n",
    "print(\"Cross Validation score: \",lasso_final_testsample_score)"
   ]
  },
  {
   "cell_type": "code",
   "execution_count": 136,
   "metadata": {},
   "outputs": [],
   "source": [
    "name_1 = ['Traning Sample', 'Test Sample']\n",
    "\n",
    "cv_score_1 = [lasso_score, lasso_final_testsample_score]\n",
    "cv_score_round_1 = [round(score, 4) for score in cv_score_1]"
   ]
  },
  {
   "cell_type": "code",
   "execution_count": 137,
   "metadata": {},
   "outputs": [
    {
     "data": {
      "image/png": "[encoded data removed]",
      "text/plain": [
       "<Figure size 360x576 with 1 Axes>"
      ]
     },
     "metadata": {},
     "output_type": "display_data"
    }
   ],
   "source": [
    "# Cross Validation Score Graph\n",
    "\n",
    "fig, ax = plt.subplots(figsize=(5,8))\n",
    "\n",
    "score_graph_1 = ax.bar(name_1, cv_score_round_1)\n",
    "score_graph_1[1].set_color('r')\n",
    "autolabel(score_graph_1)\n",
    "\n",
    "ax.set_ylim(bottom=0.5)    \n",
    "ax.set_ylabel(\"Mean of Cross Validation Score\", size=12)\n",
    "ax.set_xlabel('Sample', size=12)\n",
    "ax.set_title(\"Cross Validation Score Comparison of Lasso Models - Portuguese Datase\", size = 15)\n",
    "ax.set_xticks(name_1)\n",
    "ax.set_xticklabels(name_1, rotation=45)\n",
    "\n",
    "\n",
    "plt.savefig(\"Cross Validation Score Comparison of Lasso Models - Portuguese Datase.png\")\n",
    "plt.show()"
   ]
  },
  {
   "cell_type": "markdown",
   "metadata": {},
   "source": [
    "# **Testing G1 and G2**"
   ]
  },
  {
   "cell_type": "code",
   "execution_count": 138,
   "metadata": {},
   "outputs": [
    {
     "name": "stdout",
     "output_type": "stream",
     "text": [
      "Cross Validation score:  0.8656286454287948\n"
     ]
    }
   ],
   "source": [
    "x_drop_1 = Xp_test.drop(['G1'], axis=1)\n",
    "\n",
    "drop_1_score = cross_val_score(lasso_final,x_drop_1, yp_test,cv=cv).mean()\n",
    "print(\"Cross Validation score: \",drop_1_score)"
   ]
  },
  {
   "cell_type": "code",
   "execution_count": 139,
   "metadata": {},
   "outputs": [
    {
     "name": "stdout",
     "output_type": "stream",
     "text": [
      "Cross Validation score:  0.4423215245334659\n"
     ]
    }
   ],
   "source": [
    "x_drop_2 = Xp_test.drop(['G2'], axis=1)\n",
    "\n",
    "drop_2_score = cross_val_score(lasso_final,x_drop_2, yp_test,cv=cv).mean()\n",
    "print(\"Cross Validation score: \",drop_2_score)"
   ]
  },
  {
   "cell_type": "code",
   "execution_count": 140,
   "metadata": {},
   "outputs": [
    {
     "name": "stdout",
     "output_type": "stream",
     "text": [
      "Cross Validation score:  0.1212688741789483\n"
     ]
    }
   ],
   "source": [
    "x_drop_12 = Xp_test.drop(['G1','G2'], axis=1)\n",
    "\n",
    "drop_12_score = cross_val_score(lasso_final,x_drop_12, yp_test,cv=cv).mean()\n",
    "print(\"Cross Validation score: \", drop_12_score)"
   ]
  },
  {
   "cell_type": "code",
   "execution_count": 141,
   "metadata": {},
   "outputs": [],
   "source": [
    "name = ['Keep All Features', 'Drop G1', 'Drop G2', 'Drop G1 and G2']\n",
    "\n",
    "lasso_cv_score = [lasso_final_testsample_score, drop_1_score, drop_2_score, drop_12_score]\n",
    "\n",
    "lasso_cv_score_round = [round(score, 4) for score in lasso_cv_score]"
   ]
  },
  {
   "cell_type": "code",
   "execution_count": 142,
   "metadata": {},
   "outputs": [
    {
     "data": {
      "image/png": "[encoded data removed]",
      "text/plain": [
       "<Figure size 576x720 with 1 Axes>"
      ]
     },
     "metadata": {},
     "output_type": "display_data"
    }
   ],
   "source": [
    "# Cross Validation Score Graph\n",
    "\n",
    "fig, ax = plt.subplots(figsize=(8,10))\n",
    "\n",
    "score_graph = ax.bar(name, lasso_cv_score_round)\n",
    "score_graph[0].set_color('r')\n",
    "autolabel(score_graph)\n",
    "   \n",
    "ax.set_ylabel(\"Mean of Cross Validation Score\")\n",
    "ax.set_xlabel('Variations of Dataset')\n",
    "ax.set_title(\"Lasso Model - Portuguese Dataset\", size = 15)\n",
    "ax.set_xticks(name)\n",
    "ax.set_xticklabels(name, rotation=45)\n",
    "\n",
    "plt.tight_layout()\n",
    "plt.savefig(\"Lasso Model - Portuguese Dataset.png\")\n",
    "plt.show()"
   ]
  },
  {
   "cell_type": "code",
   "execution_count": null,
   "metadata": {},
   "outputs": [],
   "source": []
  }
 ],
 "metadata": {
  "kernelspec": {
   "display_name": "Python 3",
   "language": "python",
   "name": "python3"
  },
  "language_info": {
   "codemirror_mode": {
    "name": "ipython",
    "version": 3
   },
   "file_extension": ".py",
   "mimetype": "text/x-python",
   "name": "python",
   "nbconvert_exporter": "python",
   "pygments_lexer": "ipython3",
   "version": "3.7.6"
  }
 },
 "nbformat": 4,
 "nbformat_minor": 2
}
