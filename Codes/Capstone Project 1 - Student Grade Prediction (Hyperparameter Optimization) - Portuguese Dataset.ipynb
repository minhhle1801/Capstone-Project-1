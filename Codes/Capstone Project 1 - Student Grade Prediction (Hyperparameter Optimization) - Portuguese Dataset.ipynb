{
 "cells": [
  {
   "cell_type": "code",
   "execution_count": 1,
   "metadata": {},
   "outputs": [],
   "source": [
    "import pandas as pd\n",
    "import numpy as np\n",
    "import matplotlib.pyplot as plt\n",
    "import seaborn as sns\n",
    "from glob import glob\n",
    "\n",
    "from scipy.stats import randint\n",
    "\n",
    "from sklearn.linear_model import LinearRegression\n",
    "from sklearn.linear_model import Lasso\n",
    "from sklearn.linear_model import Ridge\n",
    "from sklearn.svm import SVR\n",
    "from sklearn.tree import DecisionTreeRegressor\n",
    "from sklearn.ensemble import RandomForestRegressor\n",
    "from sklearn.ensemble import GradientBoostingRegressor\n",
    "from xgboost import XGBRegressor\n",
    "from lightgbm import LGBMRegressor\n",
    "\n",
    "from sklearn.preprocessing import StandardScaler\n",
    "from sklearn.impute import SimpleImputer\n",
    "\n",
    "from sklearn.pipeline import Pipeline\n",
    "\n",
    "from sklearn.model_selection import RepeatedKFold\n",
    "from sklearn.model_selection import train_test_split\n",
    "from sklearn.model_selection import GridSearchCV\n",
    "from sklearn.model_selection import RandomizedSearchCV\n",
    "from sklearn.model_selection import cross_validate\n",
    "from sklearn.model_selection import cross_val_score\n",
    "from sklearn.metrics import r2_score"
   ]
  },
  {
   "cell_type": "code",
   "execution_count": 2,
   "metadata": {},
   "outputs": [],
   "source": [
    "# Import dataframe\n",
    "\n",
    "mat = pd.read_csv('student-mat.csv', sep=';')\n",
    "por = pd.read_csv('student-por.csv', sep=';')\n",
    "both = pd.merge(mat, por, how='outer', suffixes=['_mat','_por'], on=[\"school\",\"sex\",\"age\",\"address\",\"famsize\",\"Pstatus\",\"Medu\",\"Fedu\",\"Mjob\",\"Fjob\",\"reason\",\"nursery\",\"internet\"])"
   ]
  },
  {
   "cell_type": "code",
   "execution_count": 3,
   "metadata": {},
   "outputs": [],
   "source": [
    "# Encoding dummy variables\n",
    "\n",
    "math = pd.get_dummies(mat, drop_first=True)\n",
    "port = pd.get_dummies(por, drop_first=True)"
   ]
  },
  {
   "cell_type": "markdown",
   "metadata": {},
   "source": [
    "# **Portuguese Dataset**"
   ]
  },
  {
   "cell_type": "code",
   "execution_count": 4,
   "metadata": {},
   "outputs": [],
   "source": [
    "# Train & Test samples for Portuguese\n",
    "\n",
    "Xp = port.drop('G3', axis=1)\n",
    "yp = port['G3']\n",
    "\n",
    "Xp_train, Xp_test, yp_train, yp_test = train_test_split(Xp,yp, test_size=0.2, random_state=24)"
   ]
  },
  {
   "cell_type": "code",
   "execution_count": 5,
   "metadata": {},
   "outputs": [],
   "source": [
    "# Repeated K-Fold cross validator\n",
    "\n",
    "cv = RepeatedKFold(n_splits=10, n_repeats=3, random_state=24)"
   ]
  },
  {
   "cell_type": "markdown",
   "metadata": {},
   "source": [
    "# **Linear Regression**"
   ]
  },
  {
   "cell_type": "code",
   "execution_count": 27,
   "metadata": {},
   "outputs": [
    {
     "name": "stdout",
     "output_type": "stream",
     "text": [
      "{'copy_X': True, 'n_jobs': 0, 'normalize': True}\n"
     ]
    }
   ],
   "source": [
    "# Linear Regression (GridSearchCV)\n",
    "\n",
    "linear = LinearRegression()\n",
    "params = {'normalize':[True,False],\n",
    "         'copy_X':[True,False],\n",
    "         'n_jobs':[0,1,2,3,4]}\n",
    "\n",
    "linear_grid = GridSearchCV(linear, params, cv = 5)\n",
    "linear_grid.fit(Xp_train, yp_train)\n",
    "print(linear_grid.best_params_)"
   ]
  },
  {
   "cell_type": "code",
   "execution_count": 6,
   "metadata": {},
   "outputs": [
    {
     "name": "stdout",
     "output_type": "stream",
     "text": [
      "Cross Validation score:  0.8281572825499037\n"
     ]
    }
   ],
   "source": [
    "# Linear Regression (Final)\n",
    "\n",
    "linear_final = LinearRegression(normalize = True, copy_X = True, n_jobs = 0)\n",
    "linear_final.fit(Xp_train, yp_train)\n",
    "\n",
    "linear_final_score = cross_val_score(linear_final,Xp_train, yp_train,cv=cv, scoring='r2').mean()\n",
    "print(\"Cross Validation score: \",linear_final_score)"
   ]
  },
  {
   "cell_type": "code",
   "execution_count": 7,
   "metadata": {},
   "outputs": [
    {
     "name": "stdout",
     "output_type": "stream",
     "text": [
      "Cross Validation score:  0.8281572825499036\n"
     ]
    }
   ],
   "source": [
    "# Linear Regression (Original)\n",
    "\n",
    "linear = LinearRegression()\n",
    "linear.fit(Xp_train, yp_train)\n",
    "\n",
    "linear_score = cross_val_score(linear,Xp_train, yp_train,cv=cv, scoring='r2').mean()\n",
    "print(\"Cross Validation score: \", linear_score)"
   ]
  },
  {
   "cell_type": "markdown",
   "metadata": {},
   "source": [
    "# **Ridge**"
   ]
  },
  {
   "cell_type": "code",
   "execution_count": 11,
   "metadata": {},
   "outputs": [
    {
     "name": "stdout",
     "output_type": "stream",
     "text": [
      "{'alpha': 150, 'copy_X': False, 'normalize': False, 'solver': 'saga'}\n"
     ]
    }
   ],
   "source": [
    "# Ridge (GridSearchCV)\n",
    "\n",
    "ridge = Ridge()\n",
    "\n",
    "params = {'alpha':[1,5,10,11,12,15,20,100, 150, 200, 250],\n",
    "          'normalize':[True,False],\n",
    "         'copy_X':[True,False],\n",
    "         'solver':['auto', 'svd', 'cholesky', 'lsqr', 'sparse_cg', 'sag', 'saga']}\n",
    "\n",
    "ridge_grid = GridSearchCV(ridge, params, cv = 5)\n",
    "ridge_grid.fit(Xp_train,yp_train)\n",
    "\n",
    "print(ridge_grid.best_params_)"
   ]
  },
  {
   "cell_type": "code",
   "execution_count": 8,
   "metadata": {},
   "outputs": [
    {
     "name": "stdout",
     "output_type": "stream",
     "text": [
      "Cross Validation score:  0.8377627175791375\n"
     ]
    }
   ],
   "source": [
    "# Ridge (Final)\n",
    "\n",
    "ridge_final = Ridge(alpha=150, normalize = False, copy_X = False, solver = 'saga')\n",
    "ridge_final.fit(Xp_train,yp_train)\n",
    "\n",
    "ridge_final_score = cross_val_score(ridge_final, Xp_train, yp_train, cv=cv, scoring='r2').mean()\n",
    "print(\"Cross Validation score: \", ridge_final_score)"
   ]
  },
  {
   "cell_type": "code",
   "execution_count": 9,
   "metadata": {},
   "outputs": [
    {
     "name": "stdout",
     "output_type": "stream",
     "text": [
      "Cross Validation score:  0.8288077855634158\n"
     ]
    }
   ],
   "source": [
    "# Ridge (Original)\n",
    "\n",
    "ridge = Ridge()\n",
    "ridge.fit(Xp_train,yp_train)\n",
    "\n",
    "ridge_score = cross_val_score(ridge, Xp_train, yp_train, cv=cv, scoring='r2').mean()\n",
    "print(\"Cross Validation score: \", ridge_score)"
   ]
  },
  {
   "cell_type": "markdown",
   "metadata": {},
   "source": [
    "# **Lasso**"
   ]
  },
  {
   "cell_type": "code",
   "execution_count": 124,
   "metadata": {},
   "outputs": [
    {
     "name": "stdout",
     "output_type": "stream",
     "text": [
      "{'alpha': 0.1, 'copy_X': False, 'max_iter': 1000, 'normalize': False, 'selection': 'random', 'warm_start': True}\n"
     ]
    }
   ],
   "source": [
    "# Lasso (GridSearchCV)\n",
    "\n",
    "lasso = Lasso()\n",
    "\n",
    "params = {'alpha':[0.01,0.1,1,2,3,4,5,6,10],\n",
    "          'max_iter':[500,1000,1500,2000],\n",
    "          'normalize':[0.01,0.1,1,2,3,4,5,False],\n",
    "          'warm_start':[True,False],\n",
    "         'copy_X':[True,False],\n",
    "         'selection':['cyclic','random']}\n",
    "\n",
    "lasso_grid = GridSearchCV(lasso, params, cv = 5)\n",
    "\n",
    "\n",
    "lasso_grid.fit(Xp_train,yp_train)\n",
    "\n",
    "print(lasso_grid.best_params_)"
   ]
  },
  {
   "cell_type": "code",
   "execution_count": 10,
   "metadata": {},
   "outputs": [
    {
     "name": "stdout",
     "output_type": "stream",
     "text": [
      "Cross Validation score:  0.842010941182545\n"
     ]
    }
   ],
   "source": [
    "# Lasso (Final)\n",
    "\n",
    "lasso_final = Lasso(alpha = 0.1, max_iter = 1000, normalize = False, warm_start = True,\n",
    "             copy_X = True, selection = 'random')\n",
    "lasso_final.fit(Xp_train,yp_train)\n",
    "\n",
    "lasso_final_score = cross_val_score(lasso_final, Xp_train, yp_train, cv=cv, scoring='r2').mean()\n",
    "print(\"Cross Validation score: \", lasso_final_score)"
   ]
  },
  {
   "cell_type": "code",
   "execution_count": 11,
   "metadata": {},
   "outputs": [
    {
     "name": "stdout",
     "output_type": "stream",
     "text": [
      "Cross Validation score:  0.8316797568325994\n"
     ]
    }
   ],
   "source": [
    "# Lasso (Original)\n",
    "\n",
    "lasso = Lasso()\n",
    "lasso.fit(Xp_train,yp_train)\n",
    "\n",
    "lasso_score = cross_val_score(lasso, Xp_train, yp_train, cv=cv, scoring='r2').mean()\n",
    "print(\"Cross Validation score: \", lasso_score)"
   ]
  },
  {
   "cell_type": "markdown",
   "metadata": {},
   "source": [
    "# **Random Forest Regression**"
   ]
  },
  {
   "cell_type": "code",
   "execution_count": 12,
   "metadata": {},
   "outputs": [
    {
     "name": "stdout",
     "output_type": "stream",
     "text": [
      "{'max_features': 'auto', 'min_impurity_decrease': 0, 'min_samples_leaf': 6, 'min_samples_split': 6, 'min_weight_fraction_leaf': 0, 'n_estimators': 100}\n"
     ]
    }
   ],
   "source": [
    "# Random Forest Regression (GridSearchCV)\n",
    "\n",
    "rfr = RandomForestRegressor()\n",
    "params = {'n_estimators':[100,250,500,750],\n",
    "          'min_samples_split':list(np.arange(2,10,2)),\n",
    "          'min_samples_leaf':list(np.arange(2,10,2)),\n",
    "          'min_weight_fraction_leaf':[0,0.1,0.2,0.3,0.4,0.5],\n",
    "          'min_impurity_decrease':[0,0.1,0.2,0.5],\n",
    "          'max_features':['auto','sqrt','log2']}\n",
    "\n",
    "rfr_grid = GridSearchCV(rfr, params, cv=5)\n",
    "rfr_grid.fit(Xp_train, yp_train)\n",
    "\n",
    "print(rfr_grid.best_params_)"
   ]
  },
  {
   "cell_type": "code",
   "execution_count": 12,
   "metadata": {},
   "outputs": [
    {
     "name": "stdout",
     "output_type": "stream",
     "text": [
      "Cross Validation score:  0.8384147371300621\n"
     ]
    }
   ],
   "source": [
    "# Random Forest Regression (Final)\n",
    "\n",
    "rfr_final = RandomForestRegressor(n_estimators = 100, min_samples_split = 6,\n",
    "                             min_samples_leaf = 6, min_weight_fraction_leaf=0,\n",
    "                            min_impurity_decrease = 0, max_features = 'auto' )\n",
    "rfr_final.fit(Xp_train, yp_train)\n",
    "\n",
    "random_forest_final_score = cross_val_score(rfr_final,Xp_train, yp_train,cv=cv, scoring='r2').mean()\n",
    "print(\"Cross Validation score: \",random_forest_final_score)"
   ]
  },
  {
   "cell_type": "code",
   "execution_count": 13,
   "metadata": {},
   "outputs": [
    {
     "name": "stdout",
     "output_type": "stream",
     "text": [
      "Cross Validation score:  0.8309107584437158\n"
     ]
    }
   ],
   "source": [
    "# Random Forest Regression (Original)\n",
    "\n",
    "rfr = RandomForestRegressor()\n",
    "rfr.fit(Xp_train, yp_train)\n",
    "\n",
    "random_forest_score = cross_val_score(rfr,Xp_train, yp_train,cv=cv, scoring='r2').mean()\n",
    "print(\"Cross Validation score: \",random_forest_score)"
   ]
  },
  {
   "cell_type": "markdown",
   "metadata": {},
   "source": [
    "# **Cross Validation Score**"
   ]
  },
  {
   "cell_type": "code",
   "execution_count": 14,
   "metadata": {},
   "outputs": [],
   "source": [
    "def autolabel(rects):\n",
    "    \"\"\"Attach a text label above each bar in *rects*, displaying its height.\"\"\"\n",
    "    for rect in rects:\n",
    "        height = rect.get_height()\n",
    "        ax.annotate('{}'.format(height),\n",
    "                    xy=(rect.get_x() + rect.get_width() / 2, height),\n",
    "                    xytext=(0, 3),  # 3 points vertical offset\n",
    "                    textcoords=\"offset points\",\n",
    "                    ha='center', va='bottom')"
   ]
  },
  {
   "cell_type": "code",
   "execution_count": 15,
   "metadata": {},
   "outputs": [],
   "source": [
    "name = ['Linear Regression', 'Ridge', 'Lasso', 'Random Forest']\n",
    "x_indexes = np.arange(len(name))\n",
    "width = 0.4\n",
    "\n",
    "\n",
    "cv_score = [linear_score, ridge_score, lasso_score, random_forest_score]\n",
    "cv_score_round = [round(score, 4) for score in cv_score]\n",
    "\n",
    "cv_score_final = [linear_final_score, ridge_final_score, lasso_final_score, random_forest_final_score]\n",
    "cv_score_final_round = [round(score, 4) for score in cv_score_final]"
   ]
  },
  {
   "cell_type": "code",
   "execution_count": 16,
   "metadata": {},
   "outputs": [
    {
     "data": {
      "image/png": "[encoded data removed]",
      "text/plain": [
       "<Figure size 720x720 with 1 Axes>"
      ]
     },
     "metadata": {},
     "output_type": "display_data"
    }
   ],
   "source": [
    "# Cross Validation Score Graph\n",
    "\n",
    "plt.style.use('seaborn-darkgrid')\n",
    "\n",
    "fig, ax = plt.subplots(figsize=(10,10))\n",
    "\n",
    "\n",
    "score_final_graph = ax.bar(x_indexes, cv_score_final_round, width=width, label = 'After Hyperparameter Optimization')\n",
    "score_graph = ax.bar(x_indexes+width, cv_score_round,width=width, label = 'Original')\n",
    "\n",
    "\n",
    "autolabel(score_graph)\n",
    "autolabel(score_final_graph)\n",
    "\n",
    "ax.set_ylim(bottom=0.8)\n",
    "ax.set_ylabel(\"Mean of Cross Validation Score\", size=12)\n",
    "\n",
    "ax.set_xlabel('Machine Learning Methods', size=12)\n",
    "ax.set_xticks(ticks = x_indexes)\n",
    "ax.set_xticklabels(name, rotation=45)\n",
    "\n",
    "ax.set_title(\"Portuguese Data Set - Hyperparameter Optimization\", size = 15)\n",
    "plt.legend()\n",
    "\n",
    "plt.tight_layout()\n",
    "plt.savefig(\"Portuguese Data Set - Hyperparameter Optimization.png\")\n",
    "plt.show()"
   ]
  },
  {
   "cell_type": "markdown",
   "metadata": {},
   "source": [
    "# **Important Features**"
   ]
  },
  {
   "cell_type": "code",
   "execution_count": 17,
   "metadata": {},
   "outputs": [
    {
     "data": {
      "image/png": "[encoded data removed]",
      "text/plain": [
       "<Figure size 864x864 with 1 Axes>"
      ]
     },
     "metadata": {},
     "output_type": "display_data"
    }
   ],
   "source": [
    "plt.figure(figsize=(12,12))\n",
    "sorted_idx = lasso_final.coef_.argsort()\n",
    "x = Xp_train.columns[sorted_idx]\n",
    "y = lasso_final.coef_[sorted_idx]\n",
    "plt.barh(x, y)\n",
    "\n",
    "plt.ylabel('Features')\n",
    "plt.xlabel(\"Lasso Feature Coefficient\")\n",
    "plt.title(\"Lasso Feature Importance - Portuguese Dataset\")\n",
    "\n",
    "plt.tight_layout()\n",
    "plt.savefig(\"Lasso Feature Importance - Portuguese Dataset.png\")\n",
    "plt.show()"
   ]
  },
  {
   "cell_type": "code",
   "execution_count": 18,
   "metadata": {},
   "outputs": [
    {
     "name": "stdout",
     "output_type": "stream",
     "text": [
      "G2 : 0.8540143327306511\n",
      "G1 : 0.17302177416207934\n",
      "absences : 0.010954302113502568\n",
      "age : 0.0\n",
      "Mjob_teacher : 0.0\n",
      "Fjob_health : 0.0\n",
      "Fjob_other : -0.0\n",
      "Fjob_services : 0.0\n",
      "Fjob_teacher : -0.0\n",
      "reason_home : -0.0\n",
      "reason_other : -0.0\n",
      "reason_reputation : -0.0\n",
      "guardian_mother : -0.0\n",
      "guardian_other : 0.0\n",
      "schoolsup_yes : -0.0\n",
      "famsup_yes : 0.0\n",
      "paid_yes : -0.0\n",
      "activities_yes : -0.0\n",
      "nursery_yes : -0.0\n",
      "higher_yes : 0.0\n",
      "Mjob_services : 0.0\n",
      "Mjob_other : -0.0\n",
      "Mjob_health : 0.0\n",
      "Pstatus_T : -0.0\n",
      "Medu : 0.0\n",
      "Fedu : 0.0\n",
      "traveltime : 0.0\n",
      "studytime : 0.0\n",
      "failures : -0.0\n",
      "famrel : 0.0\n",
      "freetime : -0.0\n",
      "goout : 0.0\n",
      "Dalc : -0.0\n",
      "Walc : -0.0\n",
      "school_MS : -0.0\n",
      "sex_M : -0.0\n",
      "address_U : 0.0\n",
      "famsize_LE3 : 0.0\n",
      "internet_yes : 0.0\n",
      "romantic_yes : 0.0\n",
      "health : -0.019415079482056966\n"
     ]
    }
   ],
   "source": [
    "# Feature Coefficient\n",
    "\n",
    "feature_coef = dict(zip(x, y))\n",
    "sort_orders = sorted(feature_coef.items(), key=lambda x: x[1], reverse=True)\n",
    "\n",
    "for i in sort_orders:\n",
    "    print(i[0],':', i[1])"
   ]
  },
  {
   "cell_type": "markdown",
   "metadata": {},
   "source": [
    "# **Predict on Test sample**"
   ]
  },
  {
   "cell_type": "code",
   "execution_count": 19,
   "metadata": {},
   "outputs": [
    {
     "name": "stdout",
     "output_type": "stream",
     "text": [
      "R2 Score::  0.8677298891676171\n"
     ]
    }
   ],
   "source": [
    "yp_pred = lasso_final.predict(Xp_test)\n",
    "\n",
    "lasso_final_r2_score = r2_score(yp_test, yp_pred)\n",
    "print(\"R2 Score:: \",lasso_final_r2_score)"
   ]
  }
 ],
 "metadata": {
  "kernelspec": {
   "display_name": "Python 3",
   "language": "python",
   "name": "python3"
  },
  "language_info": {
   "codemirror_mode": {
    "name": "ipython",
    "version": 3
   },
   "file_extension": ".py",
   "mimetype": "text/x-python",
   "name": "python",
   "nbconvert_exporter": "python",
   "pygments_lexer": "ipython3",
   "version": "3.7.6"
  }
 },
 "nbformat": 4,
 "nbformat_minor": 2
}
